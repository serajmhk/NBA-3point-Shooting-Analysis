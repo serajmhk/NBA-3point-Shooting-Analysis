{
 "cells": [
  {
   "cell_type": "code",
   "execution_count": 1,
   "id": "288afdcf",
   "metadata": {},
   "outputs": [],
   "source": [
    "import pandas as pd\n",
    "import matplotlib.pyplot as plt \n",
    "import seaborn as sn\n",
    "%matplotlib inline"
   ]
  },
  {
   "cell_type": "code",
   "execution_count": 2,
   "id": "479cda82",
   "metadata": {},
   "outputs": [
    {
     "data": {
      "text/html": [
       "<div>\n",
       "<style scoped>\n",
       "    .dataframe tbody tr th:only-of-type {\n",
       "        vertical-align: middle;\n",
       "    }\n",
       "\n",
       "    .dataframe tbody tr th {\n",
       "        vertical-align: top;\n",
       "    }\n",
       "\n",
       "    .dataframe thead th {\n",
       "        text-align: right;\n",
       "    }\n",
       "</style>\n",
       "<table border=\"1\" class=\"dataframe\">\n",
       "  <thead>\n",
       "    <tr style=\"text-align: right;\">\n",
       "      <th></th>\n",
       "      <th>Rk</th>\n",
       "      <th>year</th>\n",
       "      <th>Player</th>\n",
       "      <th>Pos</th>\n",
       "      <th>Age</th>\n",
       "      <th>HT</th>\n",
       "      <th>WT</th>\n",
       "      <th>YOS</th>\n",
       "      <th>Draft Year</th>\n",
       "      <th>Final Pick</th>\n",
       "      <th>...</th>\n",
       "      <th>FT%</th>\n",
       "      <th>ORB</th>\n",
       "      <th>DRB</th>\n",
       "      <th>TRB</th>\n",
       "      <th>AST</th>\n",
       "      <th>STL</th>\n",
       "      <th>BLK</th>\n",
       "      <th>TOV</th>\n",
       "      <th>PF</th>\n",
       "      <th>PTS</th>\n",
       "    </tr>\n",
       "  </thead>\n",
       "  <tbody>\n",
       "    <tr>\n",
       "      <th>0</th>\n",
       "      <td>0</td>\n",
       "      <td>2000</td>\n",
       "      <td>Tariq Abdul-Wahad</td>\n",
       "      <td>SG</td>\n",
       "      <td>25</td>\n",
       "      <td>1.981103</td>\n",
       "      <td>101.133787</td>\n",
       "      <td>2</td>\n",
       "      <td>1997</td>\n",
       "      <td>11</td>\n",
       "      <td>...</td>\n",
       "      <td>0.756477</td>\n",
       "      <td>101</td>\n",
       "      <td>190</td>\n",
       "      <td>291</td>\n",
       "      <td>98</td>\n",
       "      <td>59</td>\n",
       "      <td>28</td>\n",
       "      <td>106</td>\n",
       "      <td>147</td>\n",
       "      <td>697</td>\n",
       "    </tr>\n",
       "    <tr>\n",
       "      <th>1</th>\n",
       "      <td>1</td>\n",
       "      <td>2000</td>\n",
       "      <td>Shareef Abdur-Rahim</td>\n",
       "      <td>SF</td>\n",
       "      <td>23</td>\n",
       "      <td>2.057300</td>\n",
       "      <td>102.040816</td>\n",
       "      <td>3</td>\n",
       "      <td>1996</td>\n",
       "      <td>3</td>\n",
       "      <td>...</td>\n",
       "      <td>0.809437</td>\n",
       "      <td>218</td>\n",
       "      <td>607</td>\n",
       "      <td>825</td>\n",
       "      <td>271</td>\n",
       "      <td>89</td>\n",
       "      <td>87</td>\n",
       "      <td>249</td>\n",
       "      <td>244</td>\n",
       "      <td>1663</td>\n",
       "    </tr>\n",
       "    <tr>\n",
       "      <th>2</th>\n",
       "      <td>2</td>\n",
       "      <td>2000</td>\n",
       "      <td>Cory Alexander</td>\n",
       "      <td>PG</td>\n",
       "      <td>26</td>\n",
       "      <td>1.854110</td>\n",
       "      <td>83.900227</td>\n",
       "      <td>4</td>\n",
       "      <td>1995</td>\n",
       "      <td>29</td>\n",
       "      <td>...</td>\n",
       "      <td>0.772727</td>\n",
       "      <td>8</td>\n",
       "      <td>34</td>\n",
       "      <td>42</td>\n",
       "      <td>58</td>\n",
       "      <td>24</td>\n",
       "      <td>2</td>\n",
       "      <td>28</td>\n",
       "      <td>39</td>\n",
       "      <td>82</td>\n",
       "    </tr>\n",
       "    <tr>\n",
       "      <th>3</th>\n",
       "      <td>3</td>\n",
       "      <td>2000</td>\n",
       "      <td>Ray Allen</td>\n",
       "      <td>SG</td>\n",
       "      <td>24</td>\n",
       "      <td>1.955705</td>\n",
       "      <td>92.970522</td>\n",
       "      <td>3</td>\n",
       "      <td>1996</td>\n",
       "      <td>5</td>\n",
       "      <td>...</td>\n",
       "      <td>0.886935</td>\n",
       "      <td>83</td>\n",
       "      <td>276</td>\n",
       "      <td>359</td>\n",
       "      <td>308</td>\n",
       "      <td>110</td>\n",
       "      <td>19</td>\n",
       "      <td>183</td>\n",
       "      <td>187</td>\n",
       "      <td>1809</td>\n",
       "    </tr>\n",
       "    <tr>\n",
       "      <th>4</th>\n",
       "      <td>4</td>\n",
       "      <td>2000</td>\n",
       "      <td>Rafer Alston</td>\n",
       "      <td>PG</td>\n",
       "      <td>23</td>\n",
       "      <td>1.879508</td>\n",
       "      <td>79.365079</td>\n",
       "      <td>0</td>\n",
       "      <td>1998</td>\n",
       "      <td>39</td>\n",
       "      <td>...</td>\n",
       "      <td>0.750000</td>\n",
       "      <td>5</td>\n",
       "      <td>18</td>\n",
       "      <td>23</td>\n",
       "      <td>70</td>\n",
       "      <td>12</td>\n",
       "      <td>0</td>\n",
       "      <td>29</td>\n",
       "      <td>29</td>\n",
       "      <td>60</td>\n",
       "    </tr>\n",
       "  </tbody>\n",
       "</table>\n",
       "<p>5 rows × 36 columns</p>\n",
       "</div>"
      ],
      "text/plain": [
       "   Rk  year               Player Pos  Age        HT          WT  YOS  \\\n",
       "0   0  2000    Tariq Abdul-Wahad  SG   25  1.981103  101.133787    2   \n",
       "1   1  2000  Shareef Abdur-Rahim  SF   23  2.057300  102.040816    3   \n",
       "2   2  2000       Cory Alexander  PG   26  1.854110   83.900227    4   \n",
       "3   3  2000            Ray Allen  SG   24  1.955705   92.970522    3   \n",
       "4   4  2000         Rafer Alston  PG   23  1.879508   79.365079    0   \n",
       "\n",
       "   Draft Year  Final Pick  ...       FT%  ORB  DRB  TRB  AST  STL  BLK  TOV  \\\n",
       "0        1997          11  ...  0.756477  101  190  291   98   59   28  106   \n",
       "1        1996           3  ...  0.809437  218  607  825  271   89   87  249   \n",
       "2        1995          29  ...  0.772727    8   34   42   58   24    2   28   \n",
       "3        1996           5  ...  0.886935   83  276  359  308  110   19  183   \n",
       "4        1998          39  ...  0.750000    5   18   23   70   12    0   29   \n",
       "\n",
       "    PF   PTS  \n",
       "0  147   697  \n",
       "1  244  1663  \n",
       "2   39    82  \n",
       "3  187  1809  \n",
       "4   29    60  \n",
       "\n",
       "[5 rows x 36 columns]"
      ]
     },
     "execution_count": 2,
     "metadata": {},
     "output_type": "execute_result"
    }
   ],
   "source": [
    "ultimate_df = pd.read_excel( 'ultimate_df.xlsx' )\n",
    "ultimate_df.head()"
   ]
  },
  {
   "cell_type": "code",
   "execution_count": 3,
   "id": "1c44f7e7",
   "metadata": {},
   "outputs": [
    {
     "data": {
      "text/plain": [
       "Index(['Rk', 'year', 'Player', 'Pos', 'Age', 'HT', 'WT', 'YOS', 'Draft Year',\n",
       "       'Final Pick', 'Tm', 'G', 'GS', 'MP', 'FG', 'FGA', 'FG%', '3P', '3PA',\n",
       "       '3P%', '2P', '2PA', '2P%', 'eFG%', 'FT', 'FTA', 'FT%', 'ORB', 'DRB',\n",
       "       'TRB', 'AST', 'STL', 'BLK', 'TOV', 'PF', 'PTS'],\n",
       "      dtype='object')"
      ]
     },
     "execution_count": 3,
     "metadata": {},
     "output_type": "execute_result"
    }
   ],
   "source": [
    "ultimate_df.columns"
   ]
  },
  {
   "cell_type": "code",
   "execution_count": 4,
   "id": "bc2e3d58",
   "metadata": {},
   "outputs": [
    {
     "name": "stdout",
     "output_type": "stream",
     "text": [
      "<class 'pandas.core.frame.DataFrame'>\n",
      "RangeIndex: 10987 entries, 0 to 10986\n",
      "Data columns (total 36 columns):\n",
      " #   Column      Non-Null Count  Dtype  \n",
      "---  ------      --------------  -----  \n",
      " 0   Rk          10987 non-null  int64  \n",
      " 1   year        10987 non-null  int64  \n",
      " 2   Player      10987 non-null  object \n",
      " 3   Pos         10987 non-null  object \n",
      " 4   Age         10987 non-null  int64  \n",
      " 5   HT          10987 non-null  float64\n",
      " 6   WT          10987 non-null  float64\n",
      " 7   YOS         10987 non-null  int64  \n",
      " 8   Draft Year  10987 non-null  int64  \n",
      " 9   Final Pick  10987 non-null  int64  \n",
      " 10  Tm          10987 non-null  object \n",
      " 11  G           10987 non-null  int64  \n",
      " 12  GS          10987 non-null  int64  \n",
      " 13  MP          10987 non-null  int64  \n",
      " 14  FG          10987 non-null  int64  \n",
      " 15  FGA         10987 non-null  int64  \n",
      " 16  FG%         10987 non-null  float64\n",
      " 17  3P          10987 non-null  int64  \n",
      " 18  3PA         10987 non-null  int64  \n",
      " 19  3P%         10987 non-null  float64\n",
      " 20  2P          10987 non-null  int64  \n",
      " 21  2PA         10987 non-null  int64  \n",
      " 22  2P%         10987 non-null  float64\n",
      " 23  eFG%        10987 non-null  float64\n",
      " 24  FT          10987 non-null  int64  \n",
      " 25  FTA         10987 non-null  int64  \n",
      " 26  FT%         10987 non-null  float64\n",
      " 27  ORB         10987 non-null  int64  \n",
      " 28  DRB         10987 non-null  int64  \n",
      " 29  TRB         10987 non-null  int64  \n",
      " 30  AST         10987 non-null  int64  \n",
      " 31  STL         10987 non-null  int64  \n",
      " 32  BLK         10987 non-null  int64  \n",
      " 33  TOV         10987 non-null  int64  \n",
      " 34  PF          10987 non-null  int64  \n",
      " 35  PTS         10987 non-null  int64  \n",
      "dtypes: float64(7), int64(26), object(3)\n",
      "memory usage: 3.0+ MB\n"
     ]
    }
   ],
   "source": [
    "ultimate_df.info()"
   ]
  },
  {
   "cell_type": "code",
   "execution_count": 5,
   "id": "40c00779",
   "metadata": {},
   "outputs": [
    {
     "data": {
      "image/png": "[encoded data removed]",
      "text/plain": [
       "<Figure size 640x480 with 1 Axes>"
      ]
     },
     "metadata": {},
     "output_type": "display_data"
    }
   ],
   "source": [
    "#average 3 points scored by year\n",
    "P3_df=ultimate_df.groupby('year')['3P'].mean().reset_index()\n",
    "P3_df.head()\n",
    "\n",
    "#explain the 2012 season drop.\n",
    "year = P3_df['year']\n",
    "P3 = P3_df['3P']\n",
    "plt.bar(year, P3)\n",
    "plt.xlabel('Years')\n",
    "plt.ylabel('Average Number of 3 Pointers')\n",
    "plt.show()"
   ]
  },
  {
   "cell_type": "code",
   "execution_count": 6,
   "id": "0fbc53ea",
   "metadata": {},
   "outputs": [
    {
     "data": {
      "image/png": "[encoded data removed]",
      "text/plain": [
       "<Figure size 640x480 with 1 Axes>"
      ]
     },
     "metadata": {},
     "output_type": "display_data"
    }
   ],
   "source": [
    "#average 3 points attempted by year\n",
    "P3A_df=ultimate_df.groupby('year')['3PA'].mean().reset_index()\n",
    "\n",
    "#explain the 2012 season drop.\n",
    "year = P3A_df['year']\n",
    "P3 = P3A_df['3PA']\n",
    "plt.bar(year, P3)\n",
    "plt.xlabel('Years')\n",
    "plt.ylabel('Average Number of 3 Pointers attempted')\n",
    "plt.show()"
   ]
  },
  {
   "cell_type": "code",
   "execution_count": 7,
   "id": "d3a812dc",
   "metadata": {},
   "outputs": [
    {
     "data": {
      "image/png": "[encoded data removed]",
      "text/plain": [
       "<Figure size 640x480 with 1 Axes>"
      ]
     },
     "metadata": {},
     "output_type": "display_data"
    }
   ],
   "source": [
    "#average 3 points success rate by year\n",
    "P3S_df=ultimate_df.groupby('year')['3P%'].mean().reset_index()\n",
    "\n",
    "#explain the 2012 season drop.\n",
    "year = P3S_df['year']\n",
    "P3 = P3S_df['3P%']\n",
    "plt.bar(year, P3)\n",
    "plt.xlabel('Years')\n",
    "plt.ylabel('average 3 Pointers success rate')\n",
    "plt.show()\n"
   ]
  },
  {
   "cell_type": "code",
   "execution_count": null,
   "id": "354dd104",
   "metadata": {},
   "outputs": [],
   "source": [
    " "
   ]
  }
 ],
 "metadata": {
  "kernelspec": {
   "display_name": "Python 3 (ipykernel)",
   "language": "python",
   "name": "python3"
  },
  "language_info": {
   "codemirror_mode": {
    "name": "ipython",
    "version": 3
   },
   "file_extension": ".py",
   "mimetype": "text/x-python",
   "name": "python",
   "nbconvert_exporter": "python",
   "pygments_lexer": "ipython3",
   "version": "3.9.13"
  }
 },
 "nbformat": 4,
 "nbformat_minor": 5
}
